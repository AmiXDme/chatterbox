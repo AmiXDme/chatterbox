{
  "cells": [
    {
      "cell_type": "markdown",
      "metadata": {
        "id": "title"
      },
      "source": [
        "# 🎧 Chatterbox Audiobook Studio - Google Colab\n",
        "**Enhanced audiobook creation with 24-language TTS, voice cloning, and multi-character support**\n",
        "\n",
        "[![Open In Colab](https://colab.research.google.com/assets/colab-badge.svg)](https://colab.research.google.com/github/AmiXDme/chatterbox/blob/main/COLAB_SETUP.ipynb)\n",
        "\n",
        "## 🚀 Features\n",
        "- ✅ **24 Language Support** including Bangla\n",
        "- ✅ **Voice Library Management**\n",
        "- ✅ **Long Text Processing** (100k+ words)\n",
        "- ✅ **Multi-Voice Creation**\n",
        "- ✅ **Public URL Sharing**\n",
        "- ✅ **No Installation Required**\n"
      ]
    },
    {
      "cell_type": "markdown",
      "metadata": {
        "id": "setup"
      },
      "source": [
        "## 📋 Setup\n",
        "\n",
        "### 1. Connect to Colab Runtime\n",
        "Click the play button below to start setup. This will take 5-10 minutes on first run.\n"
      ]
    },
    {
      "cell_type": "code",
      "execution_count": null,
      "metadata": {
        "id": "install_dependencies"
      },
      "outputs": [],
      "source": [
        "# 📦 Install dependencies\n",
        "print(\"🚀 Setting up Chatterbox Audiobook Studio...\")\n",
        "\n",
        "# Install core dependencies\n",
        "!pip install torch torchaudio --index-url https://download.pytorch.org/whl/cu118\n",
        "!pip install gradio numpy librosa transformers diffusers resemble-perth\n",
        "!pip install soundfile scipy requests tqdm\n",
        "\n",
        "# Clone the repository\n",
        "!git clone https://github.com/AmiXDme/chatterbox.git\n",
        "%cd chatterbox\n",
        "\n",
        "# Install package\n",
        "!pip install -e .\n",
        "\n",
        "print(\"✅ Setup complete!\")"
      ]
    },
    {
      "cell_type": "markdown",
      "metadata": {
        "id": "download_models"
      },
      "source": [
        "## 📥 Download Models\n",
        "\n",
        "This will download the TTS models (may take 5-10 minutes)"
      ]
    },
    {
      "cell_type": "code",
      "execution_count": null,
      "metadata": {
        "id": "download_models_code"
      },
      "outputs": [],
      "source": [
        "# 📥 Download TTS models\n",
        "print(\"📥 Downloading TTS models...\")\n",
        "\n",
        "# Pre-download models\n",
        "from src.chatterbox.tts import ChatterboxTTS\n",
        "from src.chatterbox.mtl_tts import ChatterboxMultilingualTTS\n",
        "\n",
        "print(\"📥 Downloading English TTS model...\")\n",
        "english_model = ChatterboxTTS.from_pretrained(device='cpu')\n",
        "\n",
        "print(\"📥 Downloading Multilingual TTS model...\")\n",
        "multilingual_model = ChatterboxMultilingualTTS.from_pretrained(device='cpu')\n",
        "\n",
        "print(\"✅ All models downloaded successfully!\")"
      ]
    },
    {
      "cell_type": "markdown",
      "metadata": {
        "id": "start_interface"
      },
      "source": [
        "## 🚀 Start the Interface\n",
        "\n",
        "Choose your preferred method to start the interface:"
      ]
    },
    {
      "cell_type": "code",
      "execution_count": null,
      "metadata": {
        "id": "start_public_url"
      },
      "outputs": [],
      "source": [
        "# 🌐 Start with Public URL (Recommended)\n",
        "print(\"🌐 Starting interface with public URL...\")\n",
        "print(\"🎧 Visit the URL below to access your audiobook studio:\")\n",
        "\n",
        "import subprocess\n",
        "import threading\n",
        "import time\n",
        "import sys\n",
        "\n",
        "def run_gradio():\n",
        "    sys.path.append('/content/chatterbox')\n",
        "    from gradio_audiobook_app import create_interface\n",
        "    interface = create_interface()\n",
        "    interface.launch(\n",
        "        server_name='0.0.0.0',\n",
        "        server_port=7860,\n",
        "        share=True,\n",
        "        inbrowser=True,\n",
        "        quiet=False\n",
        "    )\n",
        "\n",
        "# Start in background\n",
        "thread = threading.Thread(target=run_gradio)\n",
        "thread.start()\n",
        "\n",
        "print(\"🚀 Interface starting... Check the URL above!\")"
      ]
    },
    {
      "cell_type": "markdown",
      "metadata": {
        "id": "usage_examples"
      },
      "source": [
        "## 📖 Usage Examples\n",
        "\n",
        "### **Test Basic TTS**\n",
        "```python\n",
        "# Test in Colab\n",
        "from src.chatterbox.tts import ChatterboxTTS\n",
        "import torchaudio as ta\n",
        "\n",
        "model = ChatterboxTTS.from_pretrained(device='cpu')\n",
        "text = \"Hello, this is a test of the enhanced audiobook studio!\"\n",
        "audio = model.generate(text)\n",
        "ta.save(\"test.wav\", audio, model.sr)\n",
        "print(\"✅ Audio generated successfully!\")\n",
        "```\n",
        "\n",
        "### **Test Bangla Support**\n",
        "```python\n",
        "from src.chatterbox.mtl_tts import ChatterboxMultilingualTTS\n",
        "import torchaudio as ta\n",
        "\n",
        "model = ChatterboxMultilingualTTS.from_pretrained(device='cpu')\n",
        "bangla_text = \"আমার নাম রহিম। আজকে আমি একটি চমৎকার গল্প বলব।\"\n",
        "audio = model.generate(bangla_text, language_id=\"bn\")\n",
        "ta.save(\"bangla_test.wav\", audio, model.sr)\n",
        "print(\"✅ Bangla audio generated!\")\n",
        "```"
      ]
    },
    {
      "cell_type": "markdown",
      "metadata": {
        "id": "troubleshooting"
      },
      "source": [
        "## 🔧 Troubleshooting\n",
        "\n",
        "### **Common Issues**\n",
        "- **Memory issues:** Use `device='cpu'` for Colab\n",
        "- **Slow downloads:** Models are cached for faster subsequent runs\n",
        "- **Port conflicts:** Uses port 7860\n",
        "- **GPU availability:** Automatically detects and uses GPU if available\n",
        "\n",
        "### **Performance Tips**\n",
        "- **GPU:** Use Colab Pro for faster processing\n",
        "- **Large texts:** Enable chunking for texts > 1000 words\n",
        "- **Voice quality:** Use 10-30 second reference audio samples\n"
      ]
    },
    {
      "cell_type": "markdown",
      "metadata": {
        "id": "colab_specific"
      },
      "source": [
        "## 🎯 Colab-Specific Features\n",
        "\n",
        "### **Free Tier Limitations**\n",
        "- **RAM:** 12GB available\n",
        "- **GPU:** T4 GPU available\n",
        "- **Runtime:** 12 hours max\n",
        "- **Storage:** 77GB persistent\n",
        "\n",
        "### **Pro Features**\n",
        "- **More RAM:** Up to 52GB\n",
        "- **Better GPU:** V100 or A100\n",
        "- **Longer runtime:** Up to 24 hours\n",
        "- **Faster processing:** 2-3x speedup\n"
      ]
    },
    {
      "cell_type": "markdown",
      "metadata": {
        "id": "quick_start"
      },
      "source": [
        "## 🚀 Quick Start\n",
        "\n",
        "**Just run the cells above in order!**\n",
        "\n",
        "1. **Install dependencies** (Cell 1)\n",
        "2. **Download models** (Cell 2)\n",
        "3. **Start interface** (Cell 3)\n",
        "\n",
        "**Access URL:** Will be displayed after starting the interface\n"
      ]
    }
  ],
  "metadata": {
    "colab": {
      "provenance": [],
      "gpuClass": "standard",
      "collapsed_sections": []
    },
    "kernelspec": {
      "display_name": "Python 3",
      "language": "python",
      "name": "python3"
    },
    "language_info": {
      "name": "python",
      "version": "3.8.10"
    }
  },
  "nbformat": 4,
  "nbformat_minor": 4
}
